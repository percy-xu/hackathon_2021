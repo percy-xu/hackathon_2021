{
 "cells": [
  {
   "cell_type": "code",
<<<<<<< HEAD
   "execution_count": 59,
=======
   "execution_count": 377,
>>>>>>> 12a05c5d797f743cde2d0a410c3151aca758c5ae
   "source": [
    "import pandas as pd\r\n",
    "import numpy as np\r\n",
    "import seaborn as sns\r\n",
<<<<<<< HEAD
    "import matplotlib.pyplot as plt"
=======
    "import matplotlib.pyplot as plt\r\n",
    "import plotly.express as px"
>>>>>>> 12a05c5d797f743cde2d0a410c3151aca758c5ae
   ],
   "outputs": [],
   "metadata": {}
  },
  {
   "cell_type": "code",
<<<<<<< HEAD
   "execution_count": 60,
   "source": [
    "import warnings\r\n",
    "warnings.filterwarnings(\"ignore\")"
=======
   "execution_count": 75,
   "source": [
    "# Missing data\r\n",
    "# Sep, Nov -> Claim Fake + Claim Fake Tweets + Claim Fake Tweet Replies"
>>>>>>> 12a05c5d797f743cde2d0a410c3151aca758c5ae
   ],
   "outputs": [],
   "metadata": {}
  },
  {
   "cell_type": "markdown",
   "source": [
    "# Read in Data"
   ],
   "metadata": {}
  },
  {
   "cell_type": "markdown",
   "source": [
    "News Fake Data"
   ],
   "metadata": {}
  },
  {
   "cell_type": "code",
<<<<<<< HEAD
   "execution_count": 61,
=======
   "execution_count": 54,
>>>>>>> 12a05c5d797f743cde2d0a410c3151aca758c5ae
   "source": [
    "df_may_newsfake = pd.read_csv('D:\\\\Repositories\\\\hackathon_2021\\\\CoAID-master\\\\05-01-2020\\\\NewsFakeCOVID-19.csv')\r\n",
    "df_jul_newsfake = pd.read_csv('D:\\\\Repositories\\\\hackathon_2021\\\\CoAID-master\\\\07-01-2020\\\\NewsFakeCOVID-19.csv')\r\n",
    "df_sep_newsfake = pd.read_csv('D:\\\\Repositories\\\\hackathon_2021\\\\CoAID-master\\\\09-01-2020\\\\NewsFakeCOVID-19.csv')\r\n",
    "df_nov_newsfake = pd.read_csv('D:\\\\Repositories\\\\hackathon_2021\\\\CoAID-master\\\\11-01-2020\\\\NewsFakeCOVID-19.csv')\r\n",
    "df_may_newsfake_tw = pd.read_csv('D:\\\\Repositories\\\\hackathon_2021\\\\CoAID-master\\\\05-01-2020\\\\NewsFakeCOVID-19_tweets.csv')\r\n",
    "df_jul_newsfake_tw = pd.read_csv('D:\\\\Repositories\\\\hackathon_2021\\\\CoAID-master\\\\07-01-2020\\\\NewsFakeCOVID-19_tweets.csv')\r\n",
    "df_sep_newsfake_tw = pd.read_csv('D:\\\\Repositories\\\\hackathon_2021\\\\CoAID-master\\\\09-01-2020\\\\NewsFakeCOVID-19_tweets.csv')\r\n",
    "df_nov_newsfake_tw = pd.read_csv('D:\\\\Repositories\\\\hackathon_2021\\\\CoAID-master\\\\11-01-2020\\\\NewsFakeCOVID-19_tweets.csv')\r\n",
    "df_may_newsfake_tw_rp = pd.read_csv('D:\\\\Repositories\\\\hackathon_2021\\\\CoAID-master\\\\05-01-2020\\\\NewsFakeCOVID-19_tweets_replies.csv')\r\n",
    "df_jul_newsfake_tw_rp = pd.read_csv('D:\\\\Repositories\\\\hackathon_2021\\\\CoAID-master\\\\07-01-2020\\\\NewsFakeCOVID-19_tweets_replies.csv')\r\n",
    "df_sep_newsfake_tw_rp = pd.read_csv('D:\\\\Repositories\\\\hackathon_2021\\\\CoAID-master\\\\09-01-2020\\\\NewsFakeCOVID-19_tweets_replies.csv')\r\n",
    "df_nov_newsfake_tw_rp = pd.read_csv('D:\\\\Repositories\\\\hackathon_2021\\\\CoAID-master\\\\11-01-2020\\\\NewsFakeCOVID-19_tweets_replies.csv')"
   ],
   "outputs": [],
   "metadata": {}
  },
  {
   "cell_type": "markdown",
   "source": [
    "Assign period variables 1, 2, 3, 4 to May, July, September and November"
   ],
   "metadata": {}
  },
  {
   "cell_type": "code",
<<<<<<< HEAD
   "execution_count": 62,
=======
   "execution_count": 107,
>>>>>>> 12a05c5d797f743cde2d0a410c3151aca758c5ae
   "source": [
    "df_may_newsfake['period'] = 1\r\n",
    "df_jul_newsfake['period'] = 2\r\n",
    "df_sep_newsfake['period'] = 3\r\n",
    "df_nov_newsfake['period'] = 4\r\n",
    "df_may_newsfake_tw['period'] = 1\r\n",
    "df_jul_newsfake_tw['period'] = 2\r\n",
    "df_sep_newsfake_tw['period'] = 3\r\n",
    "df_nov_newsfake_tw['period'] = 4\r\n",
    "df_may_newsfake_tw_rp['period'] = 1\r\n",
    "df_jul_newsfake_tw_rp['period'] = 2\r\n",
    "df_sep_newsfake_tw_rp['period'] = 3\r\n",
    "df_nov_newsfake_tw_rp['period'] = 4"
   ],
   "outputs": [],
   "metadata": {}
  },
  {
   "cell_type": "markdown",
   "source": [
    "Merge"
   ],
   "metadata": {}
  },
  {
   "cell_type": "code",
<<<<<<< HEAD
   "execution_count": 63,
=======
   "execution_count": 38,
>>>>>>> 12a05c5d797f743cde2d0a410c3151aca758c5ae
   "source": [
    "def merge(dfs):\r\n",
    "    df_temp = pd.concat(dfs)\r\n",
    "    df_temp.columns = ['news_id'] + list(df_temp.columns)[1:]\r\n",
    "    return df_temp"
   ],
   "outputs": [],
   "metadata": {}
  },
  {
   "cell_type": "code",
<<<<<<< HEAD
   "execution_count": 64,
=======
   "execution_count": 110,
>>>>>>> 12a05c5d797f743cde2d0a410c3151aca758c5ae
   "source": [
    "df_news_fake = merge([df_may_newsfake, df_jul_newsfake, df_sep_newsfake, df_nov_newsfake])\r\n",
    "df_news_fake_tweet = merge([df_may_newsfake_tw, df_jul_newsfake_tw, df_sep_newsfake_tw, df_nov_newsfake_tw])\r\n",
    "df_news_fake_tweet_rp = merge([df_may_newsfake_tw_rp, df_jul_newsfake_tw_rp, df_sep_newsfake_tw_rp, df_nov_newsfake_tw_rp])"
   ],
   "outputs": [],
   "metadata": {}
  },
  {
   "cell_type": "code",
<<<<<<< HEAD
   "execution_count": 65,
=======
   "execution_count": 461,
>>>>>>> 12a05c5d797f743cde2d0a410c3151aca758c5ae
   "source": [
    "df_news_fake.to_csv('news_fake.csv', index=False)\r\n",
    "df_news_fake_tweet.to_csv('news_fake_tweet.csv', index=False)\r\n",
    "df_news_fake_tweet_rp.to_csv('news_fake_tweet_replies.csv', index=False)"
   ],
   "outputs": [],
   "metadata": {}
  },
  {
   "cell_type": "code",
<<<<<<< HEAD
   "execution_count": 66,
=======
   "execution_count": 91,
>>>>>>> 12a05c5d797f743cde2d0a410c3151aca758c5ae
   "source": [
    "df_news_fake_tweet_rp['count'] = 1\r\n",
    "news_plot = sns.displot(df_news_fake_tweet_rp[['tweet_id','count']].groupby('tweet_id').sum()['count'], kind='kde')\r\n",
    "plt.xlim(0,20)\r\n",
    "plt.show()"
   ],
   "outputs": [
    {
     "output_type": "display_data",
     "data": {
      "image/png": "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",
      "text/plain": [
       "<Figure size 360x360 with 1 Axes>"
      ]
     },
     "metadata": {
      "needs_background": "light"
     }
    }
   ],
   "metadata": {}
  },
  {
   "cell_type": "code",
<<<<<<< HEAD
   "execution_count": 67,
=======
   "execution_count": 82,
>>>>>>> 12a05c5d797f743cde2d0a410c3151aca758c5ae
   "source": [
    "df_news_fake_tweet_rp.shape"
   ],
   "outputs": [
    {
     "output_type": "execute_result",
     "data": {
      "text/plain": [
<<<<<<< HEAD
       "(7477, 5)"
      ]
     },
     "metadata": {},
     "execution_count": 67
=======
       "(7477, 4)"
      ]
     },
     "metadata": {},
     "execution_count": 82
>>>>>>> 12a05c5d797f743cde2d0a410c3151aca758c5ae
    }
   ],
   "metadata": {}
  },
  {
   "cell_type": "code",
<<<<<<< HEAD
   "execution_count": 68,
   "source": [
    "# datasets read in here are cleaned and merged by teammates\r\n",
=======
   "execution_count": 123,
   "source": [
>>>>>>> 12a05c5d797f743cde2d0a410c3151aca758c5ae
    "df_news_real = pd.read_csv('D:\\\\Repositories\\\\hackathon_2021\\\\news_real.csv')\r\n",
    "df_news_real_tweet = pd.read_csv('D:\\\\Repositories\\\\hackathon_2021\\\\news_real_tweet.csv')\r\n",
    "df_news_real_tweet_rp = pd.read_csv('D:\\\\Repositories\\\\hackathon_2021\\\\news_real_tweet_reply.csv')"
   ],
   "outputs": [],
   "metadata": {}
  },
  {
   "cell_type": "markdown",
   "source": [
    "# Summary Statistics"
   ],
   "metadata": {}
  },
  {
   "cell_type": "markdown",
   "source": [
    "News Count"
   ],
   "metadata": {}
  },
  {
   "cell_type": "code",
<<<<<<< HEAD
   "execution_count": 69,
=======
   "execution_count": 156,
>>>>>>> 12a05c5d797f743cde2d0a410c3151aca758c5ae
   "source": [
    "df_news_real['real'] = 'real'\r\n",
    "df_news_fake['real'] = 'fake'\r\n",
    "df_news_all = pd.concat([df_news_real, df_news_fake]).drop(columns=['Unnamed: 0'])\r\n",
    "df_news_all['count'] = 1"
   ],
   "outputs": [],
   "metadata": {}
  },
  {
   "cell_type": "code",
<<<<<<< HEAD
   "execution_count": 70,
=======
   "execution_count": 467,
>>>>>>> 12a05c5d797f743cde2d0a410c3151aca758c5ae
   "source": [
    "df_news_all.drop(columns=['news_id']).groupby(['period','real']).sum()"
   ],
   "outputs": [
    {
     "output_type": "execute_result",
     "data": {
      "text/html": [
       "<div>\n",
       "<style scoped>\n",
       "    .dataframe tbody tr th:only-of-type {\n",
       "        vertical-align: middle;\n",
       "    }\n",
       "\n",
       "    .dataframe tbody tr th {\n",
       "        vertical-align: top;\n",
       "    }\n",
       "\n",
       "    .dataframe thead th {\n",
       "        text-align: right;\n",
       "    }\n",
       "</style>\n",
       "<table border=\"1\" class=\"dataframe\">\n",
       "  <thead>\n",
       "    <tr style=\"text-align: right;\">\n",
       "      <th></th>\n",
       "      <th></th>\n",
       "      <th>count</th>\n",
       "    </tr>\n",
       "    <tr>\n",
       "      <th>period</th>\n",
       "      <th>real</th>\n",
       "      <th></th>\n",
       "    </tr>\n",
       "  </thead>\n",
       "  <tbody>\n",
       "    <tr>\n",
       "      <th rowspan=\"2\" valign=\"top\">1</th>\n",
       "      <th>fake</th>\n",
       "      <td>572</td>\n",
       "    </tr>\n",
       "    <tr>\n",
       "      <th>real</th>\n",
       "      <td>1590</td>\n",
       "    </tr>\n",
       "    <tr>\n",
       "      <th rowspan=\"2\" valign=\"top\">2</th>\n",
       "      <th>fake</th>\n",
       "      <td>266</td>\n",
       "    </tr>\n",
       "    <tr>\n",
       "      <th>real</th>\n",
       "      <td>1127</td>\n",
       "    </tr>\n",
       "    <tr>\n",
       "      <th rowspan=\"2\" valign=\"top\">3</th>\n",
       "      <th>fake</th>\n",
       "      <td>56</td>\n",
       "    </tr>\n",
       "    <tr>\n",
       "      <th>real</th>\n",
       "      <td>893</td>\n",
       "    </tr>\n",
       "    <tr>\n",
       "      <th rowspan=\"2\" valign=\"top\">4</th>\n",
       "      <th>fake</th>\n",
       "      <td>31</td>\n",
       "    </tr>\n",
       "    <tr>\n",
       "      <th>real</th>\n",
       "      <td>922</td>\n",
       "    </tr>\n",
       "  </tbody>\n",
       "</table>\n",
       "</div>"
      ],
      "text/plain": [
       "             count\n",
       "period real       \n",
       "1      fake    572\n",
       "       real   1590\n",
       "2      fake    266\n",
       "       real   1127\n",
       "3      fake     56\n",
       "       real    893\n",
       "4      fake     31\n",
       "       real    922"
      ]
     },
     "metadata": {},
<<<<<<< HEAD
     "execution_count": 70
=======
     "execution_count": 467
>>>>>>> 12a05c5d797f743cde2d0a410c3151aca758c5ae
    }
   ],
   "metadata": {}
  },
  {
   "cell_type": "markdown",
   "source": [
    "Tweet Count"
   ],
   "metadata": {}
  },
  {
   "cell_type": "code",
<<<<<<< HEAD
   "execution_count": 71,
=======
   "execution_count": null,
>>>>>>> 12a05c5d797f743cde2d0a410c3151aca758c5ae
   "source": [
    "df_news_fake_tweet['count']=1\r\n",
    "df_news_fake_tweet['real']='fake'\r\n",
    "df_news_real_tweet['count']=1\r\n",
    "df_news_real_tweet['real']='real'\r\n",
    "df_tweet_all = pd.concat([df_news_fake_tweet, df_news_real_tweet.drop(columns='Unnamed: 0')])"
   ],
   "outputs": [],
   "metadata": {}
  },
  {
   "cell_type": "code",
<<<<<<< HEAD
   "execution_count": 72,
=======
   "execution_count": 464,
>>>>>>> 12a05c5d797f743cde2d0a410c3151aca758c5ae
   "source": [
    "df_tweet_all.drop(columns=['news_id', 'tweet_id']).groupby(['period', 'real']).sum()"
   ],
   "outputs": [
    {
     "output_type": "execute_result",
     "data": {
      "text/html": [
       "<div>\n",
       "<style scoped>\n",
       "    .dataframe tbody tr th:only-of-type {\n",
       "        vertical-align: middle;\n",
       "    }\n",
       "\n",
       "    .dataframe tbody tr th {\n",
       "        vertical-align: top;\n",
       "    }\n",
       "\n",
       "    .dataframe thead th {\n",
       "        text-align: right;\n",
       "    }\n",
       "</style>\n",
       "<table border=\"1\" class=\"dataframe\">\n",
       "  <thead>\n",
       "    <tr style=\"text-align: right;\">\n",
       "      <th></th>\n",
       "      <th></th>\n",
       "      <th>count</th>\n",
       "    </tr>\n",
       "    <tr>\n",
       "      <th>period</th>\n",
       "      <th>real</th>\n",
       "      <th></th>\n",
       "    </tr>\n",
       "  </thead>\n",
       "  <tbody>\n",
       "    <tr>\n",
       "      <th rowspan=\"2\" valign=\"top\">1</th>\n",
       "      <th>fake</th>\n",
       "      <td>9218</td>\n",
       "    </tr>\n",
       "    <tr>\n",
       "      <th>real</th>\n",
       "      <td>87324</td>\n",
       "    </tr>\n",
       "    <tr>\n",
       "      <th rowspan=\"2\" valign=\"top\">2</th>\n",
       "      <th>fake</th>\n",
       "      <td>1198</td>\n",
       "    </tr>\n",
       "    <tr>\n",
       "      <th>real</th>\n",
       "      <td>54224</td>\n",
       "    </tr>\n",
       "    <tr>\n",
       "      <th rowspan=\"2\" valign=\"top\">3</th>\n",
       "      <th>fake</th>\n",
       "      <td>23</td>\n",
       "    </tr>\n",
       "    <tr>\n",
       "      <th>real</th>\n",
       "      <td>104</td>\n",
       "    </tr>\n",
       "    <tr>\n",
       "      <th rowspan=\"2\" valign=\"top\">4</th>\n",
       "      <th>fake</th>\n",
       "      <td>4</td>\n",
       "    </tr>\n",
       "    <tr>\n",
       "      <th>real</th>\n",
       "      <td>193</td>\n",
       "    </tr>\n",
       "  </tbody>\n",
       "</table>\n",
       "</div>"
      ],
      "text/plain": [
       "             count\n",
       "period real       \n",
       "1      fake   9218\n",
       "       real  87324\n",
       "2      fake   1198\n",
       "       real  54224\n",
       "3      fake     23\n",
       "       real    104\n",
       "4      fake      4\n",
       "       real    193"
      ]
     },
     "metadata": {},
<<<<<<< HEAD
     "execution_count": 72
=======
     "execution_count": 464
>>>>>>> 12a05c5d797f743cde2d0a410c3151aca758c5ae
    }
   ],
   "metadata": {}
  },
  {
   "cell_type": "markdown",
   "source": [
    "Tweet Replies Count"
   ],
   "metadata": {}
  },
  {
   "cell_type": "code",
<<<<<<< HEAD
   "execution_count": 73,
=======
   "execution_count": 147,
>>>>>>> 12a05c5d797f743cde2d0a410c3151aca758c5ae
   "source": [
    "df_news_fake_tweet_rp['real'] = 'fake'\r\n",
    "df_news_real_tweet_rp['real'] = 'real'\r\n",
    "df_news_tweet_rp_all = pd.concat([df_news_fake_tweet_rp, df_news_real_tweet_rp])\r\n",
    "df_news_tweet_rp_all['count'] = 1"
   ],
   "outputs": [],
   "metadata": {}
  },
  {
   "cell_type": "code",
<<<<<<< HEAD
   "execution_count": 74,
=======
   "execution_count": 151,
>>>>>>> 12a05c5d797f743cde2d0a410c3151aca758c5ae
   "source": [
    "df_news_tweet_rp_all.drop(columns=['news_id','tweet_id','reply_id']).groupby(['period','real']).sum()"
   ],
   "outputs": [
    {
     "output_type": "execute_result",
     "data": {
      "text/html": [
       "<div>\n",
       "<style scoped>\n",
       "    .dataframe tbody tr th:only-of-type {\n",
       "        vertical-align: middle;\n",
       "    }\n",
       "\n",
       "    .dataframe tbody tr th {\n",
       "        vertical-align: top;\n",
       "    }\n",
       "\n",
       "    .dataframe thead th {\n",
       "        text-align: right;\n",
       "    }\n",
       "</style>\n",
       "<table border=\"1\" class=\"dataframe\">\n",
       "  <thead>\n",
       "    <tr style=\"text-align: right;\">\n",
       "      <th></th>\n",
       "      <th></th>\n",
       "      <th>count</th>\n",
       "    </tr>\n",
       "    <tr>\n",
       "      <th>period</th>\n",
       "      <th>real</th>\n",
       "      <th></th>\n",
       "    </tr>\n",
       "  </thead>\n",
       "  <tbody>\n",
       "    <tr>\n",
       "      <th rowspan=\"2\" valign=\"top\">1</th>\n",
       "      <th>fake</th>\n",
       "      <td>5721</td>\n",
       "    </tr>\n",
       "    <tr>\n",
       "      <th>real</th>\n",
       "      <td>64115</td>\n",
       "    </tr>\n",
       "    <tr>\n",
       "      <th rowspan=\"2\" valign=\"top\">2</th>\n",
       "      <th>fake</th>\n",
       "      <td>1672</td>\n",
       "    </tr>\n",
       "    <tr>\n",
       "      <th>real</th>\n",
       "      <td>50642</td>\n",
       "    </tr>\n",
       "    <tr>\n",
       "      <th rowspan=\"2\" valign=\"top\">3</th>\n",
       "      <th>fake</th>\n",
       "      <td>43</td>\n",
       "    </tr>\n",
       "    <tr>\n",
       "      <th>real</th>\n",
       "      <td>63</td>\n",
       "    </tr>\n",
       "    <tr>\n",
       "      <th rowspan=\"2\" valign=\"top\">4</th>\n",
       "      <th>fake</th>\n",
       "      <td>41</td>\n",
       "    </tr>\n",
       "    <tr>\n",
       "      <th>real</th>\n",
       "      <td>296</td>\n",
       "    </tr>\n",
       "  </tbody>\n",
       "</table>\n",
       "</div>"
      ],
      "text/plain": [
       "             count\n",
       "period real       \n",
       "1      fake   5721\n",
       "       real  64115\n",
       "2      fake   1672\n",
       "       real  50642\n",
       "3      fake     43\n",
       "       real     63\n",
       "4      fake     41\n",
       "       real    296"
      ]
     },
     "metadata": {},
<<<<<<< HEAD
     "execution_count": 74
=======
     "execution_count": 151
>>>>>>> 12a05c5d797f743cde2d0a410c3151aca758c5ae
    }
   ],
   "metadata": {}
  },
  {
   "cell_type": "markdown",
   "source": [
    "# Data Visualization"
   ],
   "metadata": {}
  },
  {
   "cell_type": "markdown",
   "source": [
    "Replies per News"
   ],
   "metadata": {}
  },
  {
   "cell_type": "code",
<<<<<<< HEAD
   "execution_count": 75,
=======
   "execution_count": 468,
>>>>>>> 12a05c5d797f743cde2d0a410c3151aca758c5ae
   "source": [
    "df_rpn = (df_news_tweet_rp_all.drop(columns=['news_id','tweet_id','reply_id']).groupby(['period','real']).sum()) / (df_news_all.drop(columns=['news_id']).groupby(['period','real']).sum())"
   ],
   "outputs": [],
   "metadata": {}
  },
  {
   "cell_type": "code",
<<<<<<< HEAD
   "execution_count": 76,
=======
   "execution_count": 469,
>>>>>>> 12a05c5d797f743cde2d0a410c3151aca758c5ae
   "source": [
    "df_rpn.columns = ['Replies per News']"
   ],
   "outputs": [],
   "metadata": {}
  },
  {
   "cell_type": "code",
<<<<<<< HEAD
   "execution_count": 77,
=======
   "execution_count": 470,
>>>>>>> 12a05c5d797f743cde2d0a410c3151aca758c5ae
   "source": [
    "df_rpn"
   ],
   "outputs": [
    {
     "output_type": "execute_result",
     "data": {
      "text/html": [
       "<div>\n",
       "<style scoped>\n",
       "    .dataframe tbody tr th:only-of-type {\n",
       "        vertical-align: middle;\n",
       "    }\n",
       "\n",
       "    .dataframe tbody tr th {\n",
       "        vertical-align: top;\n",
       "    }\n",
       "\n",
       "    .dataframe thead th {\n",
       "        text-align: right;\n",
       "    }\n",
       "</style>\n",
       "<table border=\"1\" class=\"dataframe\">\n",
       "  <thead>\n",
       "    <tr style=\"text-align: right;\">\n",
       "      <th></th>\n",
       "      <th></th>\n",
       "      <th>Replies per News</th>\n",
       "    </tr>\n",
       "    <tr>\n",
       "      <th>period</th>\n",
       "      <th>real</th>\n",
       "      <th></th>\n",
       "    </tr>\n",
       "  </thead>\n",
       "  <tbody>\n",
       "    <tr>\n",
       "      <th rowspan=\"2\" valign=\"top\">1</th>\n",
       "      <th>fake</th>\n",
       "      <td>10.001748</td>\n",
       "    </tr>\n",
       "    <tr>\n",
       "      <th>real</th>\n",
       "      <td>40.323899</td>\n",
       "    </tr>\n",
       "    <tr>\n",
       "      <th rowspan=\"2\" valign=\"top\">2</th>\n",
       "      <th>fake</th>\n",
       "      <td>6.285714</td>\n",
       "    </tr>\n",
       "    <tr>\n",
       "      <th>real</th>\n",
       "      <td>44.935226</td>\n",
       "    </tr>\n",
       "    <tr>\n",
       "      <th rowspan=\"2\" valign=\"top\">3</th>\n",
       "      <th>fake</th>\n",
       "      <td>0.767857</td>\n",
       "    </tr>\n",
       "    <tr>\n",
       "      <th>real</th>\n",
       "      <td>0.070549</td>\n",
       "    </tr>\n",
       "    <tr>\n",
       "      <th rowspan=\"2\" valign=\"top\">4</th>\n",
       "      <th>fake</th>\n",
       "      <td>1.322581</td>\n",
       "    </tr>\n",
       "    <tr>\n",
       "      <th>real</th>\n",
       "      <td>0.321041</td>\n",
       "    </tr>\n",
       "  </tbody>\n",
       "</table>\n",
       "</div>"
      ],
      "text/plain": [
       "             Replies per News\n",
       "period real                  \n",
       "1      fake         10.001748\n",
       "       real         40.323899\n",
       "2      fake          6.285714\n",
       "       real         44.935226\n",
       "3      fake          0.767857\n",
       "       real          0.070549\n",
       "4      fake          1.322581\n",
       "       real          0.321041"
      ]
     },
     "metadata": {},
<<<<<<< HEAD
     "execution_count": 77
=======
     "execution_count": 470
>>>>>>> 12a05c5d797f743cde2d0a410c3151aca758c5ae
    }
   ],
   "metadata": {}
  },
  {
   "cell_type": "code",
<<<<<<< HEAD
   "execution_count": 78,
=======
   "execution_count": 307,
>>>>>>> 12a05c5d797f743cde2d0a410c3151aca758c5ae
   "source": [
    "import plotly.graph_objects as go\r\n",
    "\r\n",
    "fig = go.Figure(data=[\r\n",
<<<<<<< HEAD
    "    go.Bar(name='Real', x=['Period 1', 'Period 2', 'Period 3', 'Period 4'], y=df_rpn.reset_index().query(\"real=='real'\")['Replies per News']),\r\n",
    "    go.Bar(name='Fake', x=['Period 1', 'Period 2', 'Period 3', 'Period 4'], y=df_rpn.reset_index().query(\"real=='fake'\")['Replies per News'])\r\n",
=======
    "    go.Bar(name='Real', x=['Period 1', 'Period 2', 'Period 3', 'Period 4'], y=df_1.reset_index().query(\"real=='real'\")['Replies per News']),\r\n",
    "    go.Bar(name='Fake', x=['Period 1', 'Period 2', 'Period 3', 'Period 4'], y=df_1.reset_index().query(\"real=='fake'\")['Replies per News'])\r\n",
>>>>>>> 12a05c5d797f743cde2d0a410c3151aca758c5ae
    "])\r\n",
    "# Change the bar mode\r\n",
    "fig.update_layout(barmode='group', title='Tweet Replies per News')\r\n",
    "fig.show()"
   ],
   "outputs": [
    {
     "output_type": "display_data",
     "data": {
      "application/vnd.plotly.v1+json": {
       "config": {
        "plotlyServerURL": "https://plot.ly"
       },
       "data": [
        {
         "name": "Real",
         "type": "bar",
         "x": [
          "Period 1",
          "Period 2",
          "Period 3",
          "Period 4"
         ],
         "y": [
          40.32389937106918,
          44.93522626441881,
          0.07054871220604703,
          0.3210412147505423
         ]
        },
        {
         "name": "Fake",
         "type": "bar",
         "x": [
          "Period 1",
          "Period 2",
          "Period 3",
          "Period 4"
         ],
         "y": [
          10.001748251748252,
          6.285714285714286,
          0.7678571428571429,
          1.3225806451612903
         ]
        }
       ],
       "layout": {
        "barmode": "group",
        "template": {
         "data": {
          "bar": [
           {
            "error_x": {
             "color": "#2a3f5f"
            },
            "error_y": {
             "color": "#2a3f5f"
            },
            "marker": {
             "line": {
              "color": "#E5ECF6",
              "width": 0.5
             }
            },
            "type": "bar"
           }
          ],
          "barpolar": [
           {
            "marker": {
             "line": {
              "color": "#E5ECF6",
              "width": 0.5
             }
            },
            "type": "barpolar"
           }
          ],
          "carpet": [
           {
            "aaxis": {
             "endlinecolor": "#2a3f5f",
             "gridcolor": "white",
             "linecolor": "white",
             "minorgridcolor": "white",
             "startlinecolor": "#2a3f5f"
            },
            "baxis": {
             "endlinecolor": "#2a3f5f",
             "gridcolor": "white",
             "linecolor": "white",
             "minorgridcolor": "white",
             "startlinecolor": "#2a3f5f"
            },
            "type": "carpet"
           }
          ],
          "choropleth": [
           {
            "colorbar": {
             "outlinewidth": 0,
             "ticks": ""
            },
            "type": "choropleth"
           }
          ],
          "contour": [
           {
            "colorbar": {
             "outlinewidth": 0,
             "ticks": ""
            },
            "colorscale": [
             [
              0,
              "#0d0887"
             ],
             [
              0.1111111111111111,
              "#46039f"
             ],
             [
              0.2222222222222222,
              "#7201a8"
             ],
             [
              0.3333333333333333,
              "#9c179e"
             ],
             [
              0.4444444444444444,
              "#bd3786"
             ],
             [
              0.5555555555555556,
              "#d8576b"
             ],
             [
              0.6666666666666666,
              "#ed7953"
             ],
             [
              0.7777777777777778,
              "#fb9f3a"
             ],
             [
              0.8888888888888888,
              "#fdca26"
             ],
             [
              1,
              "#f0f921"
             ]
            ],
            "type": "contour"
           }
          ],
          "contourcarpet": [
           {
            "colorbar": {
             "outlinewidth": 0,
             "ticks": ""
            },
            "type": "contourcarpet"
           }
          ],
          "heatmap": [
           {
            "colorbar": {
             "outlinewidth": 0,
             "ticks": ""
            },
            "colorscale": [
             [
              0,
              "#0d0887"
             ],
             [
              0.1111111111111111,
              "#46039f"
             ],
             [
              0.2222222222222222,
              "#7201a8"
             ],
             [
              0.3333333333333333,
              "#9c179e"
             ],
             [
              0.4444444444444444,
              "#bd3786"
             ],
             [
              0.5555555555555556,
              "#d8576b"
             ],
             [
              0.6666666666666666,
              "#ed7953"
             ],
             [
              0.7777777777777778,
              "#fb9f3a"
             ],
             [
              0.8888888888888888,
              "#fdca26"
             ],
             [
              1,
              "#f0f921"
             ]
            ],
            "type": "heatmap"
           }
          ],
          "heatmapgl": [
           {
            "colorbar": {
             "outlinewidth": 0,
             "ticks": ""
            },
            "colorscale": [
             [
              0,
              "#0d0887"
             ],
             [
              0.1111111111111111,
              "#46039f"
             ],
             [
              0.2222222222222222,
              "#7201a8"
             ],
             [
              0.3333333333333333,
              "#9c179e"
             ],
             [
              0.4444444444444444,
              "#bd3786"
             ],
             [
              0.5555555555555556,
              "#d8576b"
             ],
             [
              0.6666666666666666,
              "#ed7953"
             ],
             [
              0.7777777777777778,
              "#fb9f3a"
             ],
             [
              0.8888888888888888,
              "#fdca26"
             ],
             [
              1,
              "#f0f921"
             ]
            ],
            "type": "heatmapgl"
           }
          ],
          "histogram": [
           {
            "marker": {
             "colorbar": {
              "outlinewidth": 0,
              "ticks": ""
             }
            },
            "type": "histogram"
           }
          ],
          "histogram2d": [
           {
            "colorbar": {
             "outlinewidth": 0,
             "ticks": ""
            },
            "colorscale": [
             [
              0,
              "#0d0887"
             ],
             [
              0.1111111111111111,
              "#46039f"
             ],
             [
              0.2222222222222222,
              "#7201a8"
             ],
             [
              0.3333333333333333,
              "#9c179e"
             ],
             [
              0.4444444444444444,
              "#bd3786"
             ],
             [
              0.5555555555555556,
              "#d8576b"
             ],
             [
              0.6666666666666666,
              "#ed7953"
             ],
             [
              0.7777777777777778,
              "#fb9f3a"
             ],
             [
              0.8888888888888888,
              "#fdca26"
             ],
             [
              1,
              "#f0f921"
             ]
            ],
            "type": "histogram2d"
           }
          ],
          "histogram2dcontour": [
           {
            "colorbar": {
             "outlinewidth": 0,
             "ticks": ""
            },
            "colorscale": [
             [
              0,
              "#0d0887"
             ],
             [
              0.1111111111111111,
              "#46039f"
             ],
             [
              0.2222222222222222,
              "#7201a8"
             ],
             [
              0.3333333333333333,
              "#9c179e"
             ],
             [
              0.4444444444444444,
              "#bd3786"
             ],
             [
              0.5555555555555556,
              "#d8576b"
             ],
             [
              0.6666666666666666,
              "#ed7953"
             ],
             [
              0.7777777777777778,
              "#fb9f3a"
             ],
             [
              0.8888888888888888,
              "#fdca26"
             ],
             [
              1,
              "#f0f921"
             ]
            ],
            "type": "histogram2dcontour"
           }
          ],
          "mesh3d": [
           {
            "colorbar": {
             "outlinewidth": 0,
             "ticks": ""
            },
            "type": "mesh3d"
           }
          ],
          "parcoords": [
           {
            "line": {
             "colorbar": {
              "outlinewidth": 0,
              "ticks": ""
             }
            },
            "type": "parcoords"
           }
          ],
          "pie": [
           {
            "automargin": true,
            "type": "pie"
           }
          ],
          "scatter": [
           {
            "marker": {
             "colorbar": {
              "outlinewidth": 0,
              "ticks": ""
             }
            },
            "type": "scatter"
           }
          ],
          "scatter3d": [
           {
            "line": {
             "colorbar": {
              "outlinewidth": 0,
              "ticks": ""
             }
            },
            "marker": {
             "colorbar": {
              "outlinewidth": 0,
              "ticks": ""
             }
            },
            "type": "scatter3d"
           }
          ],
          "scattercarpet": [
           {
            "marker": {
             "colorbar": {
              "outlinewidth": 0,
              "ticks": ""
             }
            },
            "type": "scattercarpet"
           }
          ],
          "scattergeo": [
           {
            "marker": {
             "colorbar": {
              "outlinewidth": 0,
              "ticks": ""
             }
            },
            "type": "scattergeo"
           }
          ],
          "scattergl": [
           {
            "marker": {
             "colorbar": {
              "outlinewidth": 0,
              "ticks": ""
             }
            },
            "type": "scattergl"
           }
          ],
          "scattermapbox": [
           {
            "marker": {
             "colorbar": {
              "outlinewidth": 0,
              "ticks": ""
             }
            },
            "type": "scattermapbox"
           }
          ],
          "scatterpolar": [
           {
            "marker": {
             "colorbar": {
              "outlinewidth": 0,
              "ticks": ""
             }
            },
            "type": "scatterpolar"
           }
          ],
          "scatterpolargl": [
           {
            "marker": {
             "colorbar": {
              "outlinewidth": 0,
              "ticks": ""
             }
            },
            "type": "scatterpolargl"
           }
          ],
          "scatterternary": [
           {
            "marker": {
             "colorbar": {
              "outlinewidth": 0,
              "ticks": ""
             }
            },
            "type": "scatterternary"
           }
          ],
          "surface": [
           {
            "colorbar": {
             "outlinewidth": 0,
             "ticks": ""
            },
            "colorscale": [
             [
              0,
              "#0d0887"
             ],
             [
              0.1111111111111111,
              "#46039f"
             ],
             [
              0.2222222222222222,
              "#7201a8"
             ],
             [
              0.3333333333333333,
              "#9c179e"
             ],
             [
              0.4444444444444444,
              "#bd3786"
             ],
             [
              0.5555555555555556,
              "#d8576b"
             ],
             [
              0.6666666666666666,
              "#ed7953"
             ],
             [
              0.7777777777777778,
              "#fb9f3a"
             ],
             [
              0.8888888888888888,
              "#fdca26"
             ],
             [
              1,
              "#f0f921"
             ]
            ],
            "type": "surface"
           }
          ],
          "table": [
           {
            "cells": {
             "fill": {
              "color": "#EBF0F8"
             },
             "line": {
              "color": "white"
             }
            },
            "header": {
             "fill": {
              "color": "#C8D4E3"
             },
             "line": {
              "color": "white"
             }
            },
            "type": "table"
           }
          ]
         },
         "layout": {
          "annotationdefaults": {
           "arrowcolor": "#2a3f5f",
           "arrowhead": 0,
           "arrowwidth": 1
          },
          "coloraxis": {
           "colorbar": {
            "outlinewidth": 0,
            "ticks": ""
           }
          },
          "colorscale": {
           "diverging": [
            [
             0,
             "#8e0152"
            ],
            [
             0.1,
             "#c51b7d"
            ],
            [
             0.2,
             "#de77ae"
            ],
            [
             0.3,
             "#f1b6da"
            ],
            [
             0.4,
             "#fde0ef"
            ],
            [
             0.5,
             "#f7f7f7"
            ],
            [
             0.6,
             "#e6f5d0"
            ],
            [
             0.7,
             "#b8e186"
            ],
            [
             0.8,
             "#7fbc41"
            ],
            [
             0.9,
             "#4d9221"
            ],
            [
             1,
             "#276419"
            ]
           ],
           "sequential": [
            [
             0,
             "#0d0887"
            ],
            [
             0.1111111111111111,
             "#46039f"
            ],
            [
             0.2222222222222222,
             "#7201a8"
            ],
            [
             0.3333333333333333,
             "#9c179e"
            ],
            [
             0.4444444444444444,
             "#bd3786"
            ],
            [
             0.5555555555555556,
             "#d8576b"
            ],
            [
             0.6666666666666666,
             "#ed7953"
            ],
            [
             0.7777777777777778,
             "#fb9f3a"
            ],
            [
             0.8888888888888888,
             "#fdca26"
            ],
            [
             1,
             "#f0f921"
            ]
           ],
           "sequentialminus": [
            [
             0,
             "#0d0887"
            ],
            [
             0.1111111111111111,
             "#46039f"
            ],
            [
             0.2222222222222222,
             "#7201a8"
            ],
            [
             0.3333333333333333,
             "#9c179e"
            ],
            [
             0.4444444444444444,
             "#bd3786"
            ],
            [
             0.5555555555555556,
             "#d8576b"
            ],
            [
             0.6666666666666666,
             "#ed7953"
            ],
            [
             0.7777777777777778,
             "#fb9f3a"
            ],
            [
             0.8888888888888888,
             "#fdca26"
            ],
            [
             1,
             "#f0f921"
            ]
           ]
          },
          "colorway": [
           "#636efa",
           "#EF553B",
           "#00cc96",
           "#ab63fa",
           "#FFA15A",
           "#19d3f3",
           "#FF6692",
           "#B6E880",
           "#FF97FF",
           "#FECB52"
          ],
          "font": {
           "color": "#2a3f5f"
          },
          "geo": {
           "bgcolor": "white",
           "lakecolor": "white",
           "landcolor": "#E5ECF6",
           "showlakes": true,
           "showland": true,
           "subunitcolor": "white"
          },
          "hoverlabel": {
           "align": "left"
          },
          "hovermode": "closest",
          "mapbox": {
           "style": "light"
          },
          "paper_bgcolor": "white",
          "plot_bgcolor": "#E5ECF6",
          "polar": {
           "angularaxis": {
            "gridcolor": "white",
            "linecolor": "white",
            "ticks": ""
           },
           "bgcolor": "#E5ECF6",
           "radialaxis": {
            "gridcolor": "white",
            "linecolor": "white",
            "ticks": ""
           }
          },
          "scene": {
           "xaxis": {
            "backgroundcolor": "#E5ECF6",
            "gridcolor": "white",
            "gridwidth": 2,
            "linecolor": "white",
            "showbackground": true,
            "ticks": "",
            "zerolinecolor": "white"
           },
           "yaxis": {
            "backgroundcolor": "#E5ECF6",
            "gridcolor": "white",
            "gridwidth": 2,
            "linecolor": "white",
            "showbackground": true,
            "ticks": "",
            "zerolinecolor": "white"
           },
           "zaxis": {
            "backgroundcolor": "#E5ECF6",
            "gridcolor": "white",
            "gridwidth": 2,
            "linecolor": "white",
            "showbackground": true,
            "ticks": "",
            "zerolinecolor": "white"
           }
          },
          "shapedefaults": {
           "line": {
            "color": "#2a3f5f"
           }
          },
          "ternary": {
           "aaxis": {
            "gridcolor": "white",
            "linecolor": "white",
            "ticks": ""
           },
           "baxis": {
            "gridcolor": "white",
            "linecolor": "white",
            "ticks": ""
           },
           "bgcolor": "#E5ECF6",
           "caxis": {
            "gridcolor": "white",
            "linecolor": "white",
            "ticks": ""
           }
          },
          "title": {
           "x": 0.05
          },
          "xaxis": {
           "automargin": true,
           "gridcolor": "white",
           "linecolor": "white",
           "ticks": "",
           "title": {
            "standoff": 15
           },
           "zerolinecolor": "white",
           "zerolinewidth": 2
          },
          "yaxis": {
           "automargin": true,
           "gridcolor": "white",
           "linecolor": "white",
           "ticks": "",
           "title": {
            "standoff": 15
           },
           "zerolinecolor": "white",
           "zerolinewidth": 2
          }
         }
        },
        "title": {
         "text": "Tweet Replies per News"
        }
       }
      }
     },
     "metadata": {}
    }
   ],
   "metadata": {}
  },
  {
   "cell_type": "markdown",
   "source": [
    "# Merging Data"
   ],
   "metadata": {}
  },
  {
   "cell_type": "code",
<<<<<<< HEAD
   "execution_count": 79,
   "source": [
    "# dataset cleaned and merged by teammates. This is the final dataset used for further analysis\r\n",
    "df_all = pd.read_csv('D:\\\\Repositories\\\\hackathon_2021\\\\data_all.csv', dtype={'news_id':str, 'tweet_id':str, 'reply_id':str})"
   ],
=======
   "execution_count": 429,
   "source": [
    "df_all = pd.read_csv('D:\\\\Repositories\\\\hackathon_2021\\\\data_all.csv', dtype={'news_id':str, 'tweet_id':str, 'reply_id':str})"
   ],
   "outputs": [
    {
     "output_type": "stream",
     "name": "stderr",
     "text": [
      "D:\\Applications\\Anaconda\\lib\\site-packages\\IPython\\core\\interactiveshell.py:3146: DtypeWarning:\n",
      "\n",
      "Columns (3,5,6,7,8) have mixed types.Specify dtype option on import or set low_memory=False.\n",
      "\n"
     ]
    }
   ],
   "metadata": {}
  },
  {
   "cell_type": "code",
   "execution_count": null,
   "source": [],
>>>>>>> 12a05c5d797f743cde2d0a410c3151aca758c5ae
   "outputs": [],
   "metadata": {}
  },
  {
   "cell_type": "markdown",
   "source": [
    "# Regression Analysis"
   ],
   "metadata": {}
  },
  {
   "cell_type": "code",
<<<<<<< HEAD
   "execution_count": 80,
=======
   "execution_count": 242,
>>>>>>> 12a05c5d797f743cde2d0a410c3151aca758c5ae
   "source": [
    "import statsmodels.api as sm"
   ],
   "outputs": [],
   "metadata": {}
  },
  {
   "cell_type": "markdown",
   "source": [
    "**Stage 1**: What makes a news article more likely to be tweeted?"
   ],
   "metadata": {}
  },
  {
   "cell_type": "code",
<<<<<<< HEAD
   "execution_count": 81,
=======
   "execution_count": 430,
>>>>>>> 12a05c5d797f743cde2d0a410c3151aca758c5ae
   "source": [
    "df_all = df_all[['news_id', 'type', 'period', 'tweet_id', 'reply_id', 'fake']]"
   ],
   "outputs": [],
   "metadata": {}
  },
  {
   "cell_type": "code",
<<<<<<< HEAD
   "execution_count": 82,
=======
   "execution_count": 431,
>>>>>>> 12a05c5d797f743cde2d0a410c3151aca758c5ae
   "source": [
    "df_all.dropna(subset=['type'], inplace=True)"
   ],
   "outputs": [],
   "metadata": {}
  },
  {
   "cell_type": "code",
<<<<<<< HEAD
   "execution_count": 83,
=======
   "execution_count": 432,
>>>>>>> 12a05c5d797f743cde2d0a410c3151aca758c5ae
   "source": [
    "df_all['type'].replace('post', 0, inplace=True)\r\n",
    "df_all['type'].replace('article', 1, inplace=True)\r\n",
    "df_all['tweeted'] = df_all['tweet_id'].apply(lambda x: 0 if pd.isna(x) else 1)"
   ],
   "outputs": [],
   "metadata": {}
  },
  {
   "cell_type": "code",
<<<<<<< HEAD
   "execution_count": 84,
=======
   "execution_count": 435,
>>>>>>> 12a05c5d797f743cde2d0a410c3151aca758c5ae
   "source": [
    "X = df_all.drop(columns=['news_id','reply_id'])[['type', 'period', 'fake']]\r\n",
    "y = df_all.drop(columns=['news_id','reply_id'])[['tweeted']]\r\n",
    "\r\n",
    "log_reg = sm.Logit(y, X).fit()\r\n",
    "print(log_reg.summary())"
   ],
   "outputs": [
    {
     "output_type": "stream",
     "name": "stdout",
     "text": [
      "Optimization terminated successfully.\n",
      "         Current function value: 0.035123\n",
      "         Iterations 10\n",
      "                           Logit Regression Results                           \n",
      "==============================================================================\n",
      "Dep. Variable:                tweeted   No. Observations:               252779\n",
      "Model:                          Logit   Df Residuals:                   252776\n",
      "Method:                           MLE   Df Model:                            2\n",
      "Date:                Sun, 03 Oct 2021   Pseudo R-squ.:                  0.4042\n",
<<<<<<< HEAD
      "Time:                        04:01:05   Log-Likelihood:                -8878.3\n",
=======
      "Time:                        03:19:05   Log-Likelihood:                -8878.3\n",
>>>>>>> 12a05c5d797f743cde2d0a410c3151aca758c5ae
      "converged:                       True   LL-Null:                       -14901.\n",
      "Covariance Type:            nonrobust   LLR p-value:                     0.000\n",
      "==============================================================================\n",
      "                 coef    std err          z      P>|z|      [0.025      0.975]\n",
      "------------------------------------------------------------------------------\n",
      "type           9.3865      0.070    133.172      0.000       9.248       9.525\n",
      "period        -2.4303      0.028    -88.298      0.000      -2.484      -2.376\n",
      "fake           4.9392      0.077     64.396      0.000       4.789       5.090\n",
      "==============================================================================\n"
     ]
    }
   ],
   "metadata": {}
  },
  {
   "cell_type": "markdown",
   "source": [
    "**Stage 2**: Once on Twitter, how much social engagement does it cause?"
   ],
   "metadata": {}
  },
  {
   "cell_type": "code",
<<<<<<< HEAD
   "execution_count": 85,
=======
   "execution_count": 437,
>>>>>>> 12a05c5d797f743cde2d0a410c3151aca758c5ae
   "source": [
    "df_tweeted = df_all.dropna(subset=['tweet_id'])"
   ],
   "outputs": [],
   "metadata": {}
  },
  {
   "cell_type": "code",
<<<<<<< HEAD
   "execution_count": 86,
=======
   "execution_count": 438,
>>>>>>> 12a05c5d797f743cde2d0a410c3151aca758c5ae
   "source": [
    "df_tweeted['replies'] = df_tweeted['reply_id'].apply(lambda x: 1 if pd.notna(x) else 0)\r\n",
    "df_tweeted.drop(columns=['reply_id'], inplace=True)"
   ],
<<<<<<< HEAD
   "outputs": [],
=======
   "outputs": [
    {
     "output_type": "stream",
     "name": "stderr",
     "text": [
      "<ipython-input-438-6be05412a0a3>:1: SettingWithCopyWarning:\n",
      "\n",
      "\n",
      "A value is trying to be set on a copy of a slice from a DataFrame.\n",
      "Try using .loc[row_indexer,col_indexer] = value instead\n",
      "\n",
      "See the caveats in the documentation: https://pandas.pydata.org/pandas-docs/stable/user_guide/indexing.html#returning-a-view-versus-a-copy\n",
      "\n"
     ]
    }
   ],
>>>>>>> 12a05c5d797f743cde2d0a410c3151aca758c5ae
   "metadata": {}
  },
  {
   "cell_type": "code",
<<<<<<< HEAD
   "execution_count": 87,
=======
   "execution_count": 443,
>>>>>>> 12a05c5d797f743cde2d0a410c3151aca758c5ae
   "source": [
    "df_rp_count = df_tweeted.groupby('tweet_id').sum()"
   ],
   "outputs": [],
   "metadata": {}
  },
  {
   "cell_type": "code",
<<<<<<< HEAD
   "execution_count": 88,
=======
   "execution_count": 453,
>>>>>>> 12a05c5d797f743cde2d0a410c3151aca758c5ae
   "source": [
    "df_rp_count.query(\"replies!='0'\")"
   ],
   "outputs": [
    {
     "output_type": "execute_result",
     "data": {
      "text/html": [
       "<div>\n",
       "<style scoped>\n",
       "    .dataframe tbody tr th:only-of-type {\n",
       "        vertical-align: middle;\n",
       "    }\n",
       "\n",
       "    .dataframe tbody tr th {\n",
       "        vertical-align: top;\n",
       "    }\n",
       "\n",
       "    .dataframe thead th {\n",
       "        text-align: right;\n",
       "    }\n",
       "</style>\n",
       "<table border=\"1\" class=\"dataframe\">\n",
       "  <thead>\n",
       "    <tr style=\"text-align: right;\">\n",
       "      <th></th>\n",
       "      <th>type</th>\n",
       "      <th>period</th>\n",
       "      <th>fake</th>\n",
       "      <th>tweeted</th>\n",
       "      <th>replies</th>\n",
       "    </tr>\n",
       "    <tr>\n",
       "      <th>tweet_id</th>\n",
       "      <th></th>\n",
       "      <th></th>\n",
       "      <th></th>\n",
       "      <th></th>\n",
       "      <th></th>\n",
       "    </tr>\n",
       "  </thead>\n",
       "  <tbody>\n",
       "    <tr>\n",
       "      <th>1200929886816391168</th>\n",
       "      <td>1</td>\n",
       "      <td>1</td>\n",
       "      <td>0</td>\n",
       "      <td>1</td>\n",
       "      <td>1</td>\n",
       "    </tr>\n",
       "    <tr>\n",
       "      <th>1201200544309809153</th>\n",
       "      <td>10</td>\n",
       "      <td>10</td>\n",
       "      <td>0</td>\n",
       "      <td>10</td>\n",
       "      <td>10</td>\n",
       "    </tr>\n",
       "    <tr>\n",
       "      <th>1201526176700944385</th>\n",
       "      <td>2</td>\n",
       "      <td>2</td>\n",
       "      <td>0</td>\n",
       "      <td>2</td>\n",
       "      <td>2</td>\n",
       "    </tr>\n",
       "    <tr>\n",
       "      <th>1201660084495015937</th>\n",
       "      <td>2</td>\n",
       "      <td>2</td>\n",
       "      <td>0</td>\n",
       "      <td>2</td>\n",
       "      <td>2</td>\n",
       "    </tr>\n",
       "    <tr>\n",
       "      <th>1201754527294050305</th>\n",
       "      <td>1</td>\n",
       "      <td>1</td>\n",
       "      <td>0</td>\n",
       "      <td>1</td>\n",
       "      <td>1</td>\n",
       "    </tr>\n",
       "    <tr>\n",
       "      <th>...</th>\n",
       "      <td>...</td>\n",
       "      <td>...</td>\n",
       "      <td>...</td>\n",
       "      <td>...</td>\n",
       "      <td>...</td>\n",
       "    </tr>\n",
       "    <tr>\n",
       "      <th>1319572296319774720</th>\n",
       "      <td>1</td>\n",
       "      <td>4</td>\n",
       "      <td>0</td>\n",
       "      <td>1</td>\n",
       "      <td>1</td>\n",
       "    </tr>\n",
       "    <tr>\n",
       "      <th>1319816139187302400</th>\n",
       "      <td>2</td>\n",
       "      <td>8</td>\n",
       "      <td>0</td>\n",
       "      <td>2</td>\n",
       "      <td>2</td>\n",
       "    </tr>\n",
       "    <tr>\n",
       "      <th>1319857069172862976</th>\n",
       "      <td>1</td>\n",
       "      <td>4</td>\n",
       "      <td>0</td>\n",
       "      <td>1</td>\n",
       "      <td>1</td>\n",
       "    </tr>\n",
       "    <tr>\n",
       "      <th>1320948078212452352</th>\n",
       "      <td>1</td>\n",
       "      <td>4</td>\n",
       "      <td>0</td>\n",
       "      <td>1</td>\n",
       "      <td>1</td>\n",
       "    </tr>\n",
       "    <tr>\n",
       "      <th>1322547510481768449</th>\n",
       "      <td>1</td>\n",
       "      <td>4</td>\n",
       "      <td>0</td>\n",
       "      <td>1</td>\n",
       "      <td>1</td>\n",
       "    </tr>\n",
       "  </tbody>\n",
       "</table>\n",
       "<p>24651 rows × 5 columns</p>\n",
       "</div>"
      ],
      "text/plain": [
       "                     type  period  fake  tweeted  replies\n",
       "tweet_id                                                 \n",
       "1200929886816391168     1       1     0        1        1\n",
       "1201200544309809153    10      10     0       10       10\n",
       "1201526176700944385     2       2     0        2        2\n",
       "1201660084495015937     2       2     0        2        2\n",
       "1201754527294050305     1       1     0        1        1\n",
       "...                   ...     ...   ...      ...      ...\n",
       "1319572296319774720     1       4     0        1        1\n",
       "1319816139187302400     2       8     0        2        2\n",
       "1319857069172862976     1       4     0        1        1\n",
       "1320948078212452352     1       4     0        1        1\n",
       "1322547510481768449     1       4     0        1        1\n",
       "\n",
       "[24651 rows x 5 columns]"
      ]
     },
     "metadata": {},
<<<<<<< HEAD
     "execution_count": 88
=======
     "execution_count": 453
>>>>>>> 12a05c5d797f743cde2d0a410c3151aca758c5ae
    }
   ],
   "metadata": {}
  },
  {
   "cell_type": "markdown",
   "source": [
    "Normalize scores"
   ],
   "metadata": {}
  },
  {
   "cell_type": "code",
<<<<<<< HEAD
   "execution_count": 89,
=======
   "execution_count": 449,
>>>>>>> 12a05c5d797f743cde2d0a410c3151aca758c5ae
   "source": [
    "def normal(x):\r\n",
    "    sigma = x.std()\r\n",
    "    return x/sigma"
   ],
   "outputs": [],
   "metadata": {}
  },
  {
   "cell_type": "code",
<<<<<<< HEAD
   "execution_count": 90,
=======
   "execution_count": 456,
>>>>>>> 12a05c5d797f743cde2d0a410c3151aca758c5ae
   "source": [
    "df_rp_count['normalized_score'] = normal(df_rp_count['replies'])"
   ],
   "outputs": [],
   "metadata": {}
  },
  {
   "cell_type": "code",
<<<<<<< HEAD
   "execution_count": 91,
=======
   "execution_count": 457,
>>>>>>> 12a05c5d797f743cde2d0a410c3151aca758c5ae
   "source": [
    "df_rp_count"
   ],
   "outputs": [
    {
     "output_type": "execute_result",
     "data": {
      "text/html": [
       "<div>\n",
       "<style scoped>\n",
       "    .dataframe tbody tr th:only-of-type {\n",
       "        vertical-align: middle;\n",
       "    }\n",
       "\n",
       "    .dataframe tbody tr th {\n",
       "        vertical-align: top;\n",
       "    }\n",
       "\n",
       "    .dataframe thead th {\n",
       "        text-align: right;\n",
       "    }\n",
       "</style>\n",
       "<table border=\"1\" class=\"dataframe\">\n",
       "  <thead>\n",
       "    <tr style=\"text-align: right;\">\n",
       "      <th></th>\n",
       "      <th>type</th>\n",
       "      <th>period</th>\n",
       "      <th>fake</th>\n",
       "      <th>tweeted</th>\n",
       "      <th>replies</th>\n",
       "      <th>normalized_score</th>\n",
       "    </tr>\n",
       "    <tr>\n",
       "      <th>tweet_id</th>\n",
       "      <th></th>\n",
       "      <th></th>\n",
       "      <th></th>\n",
       "      <th></th>\n",
       "      <th></th>\n",
       "      <th></th>\n",
       "    </tr>\n",
       "  </thead>\n",
       "  <tbody>\n",
       "    <tr>\n",
       "      <th>1200929886816391168</th>\n",
       "      <td>1</td>\n",
       "      <td>1</td>\n",
       "      <td>0</td>\n",
       "      <td>1</td>\n",
       "      <td>1</td>\n",
       "      <td>0.229306</td>\n",
       "    </tr>\n",
       "    <tr>\n",
       "      <th>1201051329503862785</th>\n",
       "      <td>1</td>\n",
       "      <td>1</td>\n",
       "      <td>0</td>\n",
       "      <td>1</td>\n",
       "      <td>0</td>\n",
       "      <td>0.000000</td>\n",
       "    </tr>\n",
       "    <tr>\n",
       "      <th>1201109394357772288</th>\n",
       "      <td>1</td>\n",
       "      <td>1</td>\n",
       "      <td>0</td>\n",
       "      <td>1</td>\n",
       "      <td>0</td>\n",
       "      <td>0.000000</td>\n",
       "    </tr>\n",
       "    <tr>\n",
       "      <th>1201110199496593408</th>\n",
       "      <td>1</td>\n",
       "      <td>1</td>\n",
       "      <td>0</td>\n",
       "      <td>1</td>\n",
       "      <td>0</td>\n",
       "      <td>0.000000</td>\n",
       "    </tr>\n",
       "    <tr>\n",
       "      <th>1201140214787428353</th>\n",
       "      <td>1</td>\n",
       "      <td>1</td>\n",
       "      <td>0</td>\n",
       "      <td>1</td>\n",
       "      <td>0</td>\n",
       "      <td>0.000000</td>\n",
       "    </tr>\n",
       "    <tr>\n",
       "      <th>...</th>\n",
       "      <td>...</td>\n",
       "      <td>...</td>\n",
       "      <td>...</td>\n",
       "      <td>...</td>\n",
       "      <td>...</td>\n",
       "      <td>...</td>\n",
       "    </tr>\n",
       "    <tr>\n",
       "      <th>1322567236687724544</th>\n",
       "      <td>1</td>\n",
       "      <td>4</td>\n",
       "      <td>0</td>\n",
       "      <td>1</td>\n",
       "      <td>0</td>\n",
       "      <td>0.000000</td>\n",
       "    </tr>\n",
       "    <tr>\n",
       "      <th>1322572109395218432</th>\n",
       "      <td>1</td>\n",
       "      <td>4</td>\n",
       "      <td>0</td>\n",
       "      <td>1</td>\n",
       "      <td>0</td>\n",
       "      <td>0.000000</td>\n",
       "    </tr>\n",
       "    <tr>\n",
       "      <th>1322577305177305095</th>\n",
       "      <td>1</td>\n",
       "      <td>4</td>\n",
       "      <td>0</td>\n",
       "      <td>1</td>\n",
       "      <td>0</td>\n",
       "      <td>0.000000</td>\n",
       "    </tr>\n",
       "    <tr>\n",
       "      <th>1322621848593616898</th>\n",
       "      <td>1</td>\n",
       "      <td>4</td>\n",
       "      <td>0</td>\n",
       "      <td>1</td>\n",
       "      <td>0</td>\n",
       "      <td>0.000000</td>\n",
       "    </tr>\n",
       "    <tr>\n",
       "      <th>1322626977346576384</th>\n",
       "      <td>1</td>\n",
       "      <td>4</td>\n",
       "      <td>0</td>\n",
       "      <td>1</td>\n",
       "      <td>0</td>\n",
       "      <td>0.000000</td>\n",
       "    </tr>\n",
       "  </tbody>\n",
       "</table>\n",
       "<p>148235 rows × 6 columns</p>\n",
       "</div>"
      ],
      "text/plain": [
       "                     type  period  fake  tweeted  replies  normalized_score\n",
       "tweet_id                                                                   \n",
       "1200929886816391168     1       1     0        1        1          0.229306\n",
       "1201051329503862785     1       1     0        1        0          0.000000\n",
       "1201109394357772288     1       1     0        1        0          0.000000\n",
       "1201110199496593408     1       1     0        1        0          0.000000\n",
       "1201140214787428353     1       1     0        1        0          0.000000\n",
       "...                   ...     ...   ...      ...      ...               ...\n",
       "1322567236687724544     1       4     0        1        0          0.000000\n",
       "1322572109395218432     1       4     0        1        0          0.000000\n",
       "1322577305177305095     1       4     0        1        0          0.000000\n",
       "1322621848593616898     1       4     0        1        0          0.000000\n",
       "1322626977346576384     1       4     0        1        0          0.000000\n",
       "\n",
       "[148235 rows x 6 columns]"
      ]
     },
     "metadata": {},
<<<<<<< HEAD
     "execution_count": 91
=======
     "execution_count": 457
>>>>>>> 12a05c5d797f743cde2d0a410c3151aca758c5ae
    }
   ],
   "metadata": {}
  },
  {
   "cell_type": "code",
<<<<<<< HEAD
   "execution_count": 92,
=======
   "execution_count": 460,
>>>>>>> 12a05c5d797f743cde2d0a410c3151aca758c5ae
   "source": [
    "X2 = df_rp_count.drop(columns=['tweeted','replies'])[['type', 'period', 'fake']]\r\n",
    "y2 = df_rp_count.drop(columns=['tweeted','replies'])[['normalized_score']]\r\n",
    "\r\n",
    "lin_reg = sm.OLS(y2, X2).fit()\r\n",
    "print(lin_reg.summary())"
   ],
   "outputs": [
    {
     "output_type": "stream",
     "name": "stdout",
     "text": [
      "                                 OLS Regression Results                                \n",
      "=======================================================================================\n",
      "Dep. Variable:       normalized_score   R-squared (uncentered):                   0.949\n",
      "Model:                            OLS   Adj. R-squared (uncentered):              0.949\n",
      "Method:                 Least Squares   F-statistic:                          9.184e+05\n",
      "Date:                Sun, 03 Oct 2021   Prob (F-statistic):                        0.00\n",
<<<<<<< HEAD
      "Time:                        04:01:06   Log-Likelihood:                          7539.4\n",
=======
      "Time:                        03:26:46   Log-Likelihood:                          7539.4\n",
>>>>>>> 12a05c5d797f743cde2d0a410c3151aca758c5ae
      "No. Observations:              148235   AIC:                                 -1.507e+04\n",
      "Df Residuals:                  148232   BIC:                                 -1.504e+04\n",
      "Df Model:                           3                                                  \n",
      "Covariance Type:            nonrobust                                                  \n",
      "==============================================================================\n",
      "                 coef    std err          t      P>|t|      [0.025      0.975]\n",
      "------------------------------------------------------------------------------\n",
      "type           0.1660      0.000    429.814      0.000       0.165       0.167\n",
      "period         0.0307      0.000    136.702      0.000       0.030       0.031\n",
      "fake           0.0430      0.000     94.178      0.000       0.042       0.044\n",
      "==============================================================================\n",
      "Omnibus:                   376478.656   Durbin-Watson:                   0.897\n",
      "Prob(Omnibus):                  0.000   Jarque-Bera (JB):      83607149027.947\n",
      "Skew:                          27.336   Prob(JB):                         0.00\n",
      "Kurtosis:                    3681.782   Cond. No.                         6.88\n",
      "==============================================================================\n",
      "\n",
      "Notes:\n",
      "[1] R² is computed without centering (uncentered) since the model does not contain a constant.\n",
      "[2] Standard Errors assume that the covariance matrix of the errors is correctly specified.\n"
     ]
    }
   ],
   "metadata": {}
  }
 ],
 "metadata": {
  "orig_nbformat": 4,
  "language_info": {
   "name": "python",
   "version": "3.8.5",
   "mimetype": "text/x-python",
   "codemirror_mode": {
    "name": "ipython",
    "version": 3
   },
   "pygments_lexer": "ipython3",
   "nbconvert_exporter": "python",
   "file_extension": ".py"
  },
  "kernelspec": {
   "name": "python3",
   "display_name": "Python 3.8.5 64-bit ('base': conda)"
  },
  "interpreter": {
   "hash": "6e6f7603a0f222095c70729fb7e573f6543910ef3182ccf7976686bfcf8a95e3"
  }
 },
 "nbformat": 4,
 "nbformat_minor": 2
}